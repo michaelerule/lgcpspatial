{
 "cells": [
  {
   "cell_type": "markdown",
   "id": "deb8616a-2ff5-465e-9f84-ab59df8bae90",
   "metadata": {},
   "source": [
    "# Example 3: Optimized hyperparameters"
   ]
  },
  {
   "cell_type": "code",
   "execution_count": 1,
   "id": "be9b548e-9459-4775-92f2-83c97403670f",
   "metadata": {},
   "outputs": [],
   "source": [
    "import sys\n",
    "sys.path.append('../')\n",
    "from lgcpspatial.loaddata import Dataset\n",
    "\n",
    "datadir  = '../example data/'\n",
    "datasets = [\n",
    "    'r2405_051216b_cell1816.mat',\n",
    "    'R11_20190607_EC_02.mat'\n",
    "]"
   ]
  },
  {
   "cell_type": "markdown",
   "id": "07789699-1dfb-4655-a106-65332afb914c",
   "metadata": {},
   "source": [
    "## Grid search to find kernel hyperparameters with best evidence lower-bound"
   ]
  },
  {
   "cell_type": "code",
   "execution_count": 2,
   "id": "f8ee2400-15de-4f73-a225-824db7df5b70",
   "metadata": {},
   "outputs": [
    {
     "name": "stdout",
     "output_type": "stream",
     "text": [
      "[101,108](1.17e+01,6.70e-01) loss=-4.837745e+03(done)\n",
      "\n",
      "Heuristic parameters\n",
      "P  = 11.499551\n",
      "v0 = 0.069208\n",
      "\n",
      "Optimized parameters:\n",
      "P    = 11.499552\n",
      "β    = 0.669750\n",
      "v0/β = 0.103334\n"
     ]
    }
   ],
   "source": [
    "from lgcpspatial.hyperparameters import gridsearch_optimize\n",
    "\n",
    "# Load a dataset\n",
    "L      = 128 # Grid size for position bins\n",
    "data   = Dataset.from_file(datadir+datasets[1]).prepare(L,doplot=False)\n",
    "result = gridsearch_optimize(data)\n",
    "bestindex,bestpars,bestresult,allresults = result"
   ]
  },
  {
   "cell_type": "markdown",
   "id": "5a91605f-7c70-4bc5-a64a-d9bb0e838308",
   "metadata": {},
   "source": [
    "## The heuristic parameters were close to optimal in this case\n",
    "\n",
    "***Note:*** Since each time-sample adds independent information, it is helpful to normalize the evidence lower bound (ELBO). \n",
    "By default, `coordinate_descent` returns the negative ELBO, sometimes called the variational free energy,\n",
    "in units of nats-per-dataset. We can convert this to a more useful bits-per-second by:\n",
    "\n",
    "1. Dividing by the total number of time samples, giving nats per sample\n",
    "2. Multiply by `log2(e)` to convert to bits per sample\n",
    "3. Multiplying by samples/second to get bits per second\n",
    "\n",
    "This (negative) ELBO is also missing a $\\ln(y!) = \\ln\\Gamma(y+1)$ term from the Poisson negative log-likelihood. This doesn't affect state or hyperparameter optimization, but it's good to add it back for completeness."
   ]
  },
  {
   "cell_type": "code",
   "execution_count": 3,
   "id": "382b0f93-ba5c-41c2-9bcc-e2832829ed91",
   "metadata": {},
   "outputs": [
    {
     "ename": "NameError",
     "evalue": "name 'Fs' is not defined",
     "output_type": "error",
     "traceback": [
      "\u001b[0;31m---------------------------------------------------------------------------\u001b[0m",
      "\u001b[0;31mNameError\u001b[0m                                 Traceback (most recent call last)",
      "\u001b[0;32m<ipython-input-3-645e8320e9e0>\u001b[0m in \u001b[0;36m<module>\u001b[0;34m\u001b[0m\n\u001b[1;32m      7\u001b[0m \u001b[0my\u001b[0m\u001b[0;34m,\u001b[0m\u001b[0mN\u001b[0m     \u001b[0;34m=\u001b[0m \u001b[0mdata\u001b[0m\u001b[0;34m.\u001b[0m\u001b[0my\u001b[0m\u001b[0;34m,\u001b[0m\u001b[0mdata\u001b[0m\u001b[0;34m.\u001b[0m\u001b[0mn\u001b[0m\u001b[0;34m\u001b[0m\u001b[0;34m\u001b[0m\u001b[0m\n\u001b[1;32m      8\u001b[0m \u001b[0;34m\u001b[0m\u001b[0m\n\u001b[0;32m----> 9\u001b[0;31m \u001b[0minbitspers\u001b[0m \u001b[0;34m=\u001b[0m \u001b[0mlog2\u001b[0m\u001b[0;34m(\u001b[0m\u001b[0me\u001b[0m\u001b[0;34m)\u001b[0m\u001b[0;34m*\u001b[0m\u001b[0mFs\u001b[0m\u001b[0;34m\u001b[0m\u001b[0;34m\u001b[0m\u001b[0m\n\u001b[0m\u001b[1;32m     10\u001b[0m \u001b[0mcorrection\u001b[0m \u001b[0;34m=\u001b[0m \u001b[0maverage\u001b[0m\u001b[0;34m(\u001b[0m\u001b[0mlnΓ\u001b[0m\u001b[0;34m(\u001b[0m\u001b[0mdata\u001b[0m\u001b[0;34m.\u001b[0m\u001b[0my\u001b[0m\u001b[0;34m+\u001b[0m\u001b[0;36m1\u001b[0m\u001b[0;34m)\u001b[0m\u001b[0;34m,\u001b[0m\u001b[0mweights\u001b[0m\u001b[0;34m=\u001b[0m\u001b[0mdata\u001b[0m\u001b[0;34m.\u001b[0m\u001b[0mn\u001b[0m\u001b[0;34m)\u001b[0m\u001b[0;34m\u001b[0m\u001b[0;34m\u001b[0m\u001b[0m\n\u001b[1;32m     11\u001b[0m \u001b[0;34m\u001b[0m\u001b[0m\n",
      "\u001b[0;31mNameError\u001b[0m: name 'Fs' is not defined"
     ]
    }
   ],
   "source": [
    "from lgcpspatial.lgcp2d import DiagonalFourierLowrank\n",
    "from lgcpspatial.lgcp2d import coordinate_descent\n",
    "from scipy.special      import loggamma as lnΓ\n",
    "from lgcpspatial.plot   import *\n",
    "\n",
    "mask,mz = data.arena.mask,data.prior_mean\n",
    "y,N     = data.y,data.n\n",
    "\n",
    "inbitspers = log2(e)*Fs\n",
    "correction = average(lnΓ(data.y+1),weights=data.n)\n",
    "\n",
    "totaltime = sum(N)\n",
    "\n",
    "def to_bps(vfe):\n",
    "    '''\n",
    "    The DiagonalFourierLowrank class returns the\n",
    "    variational free energy in units of nats per dataset,\n",
    "    with the constant contribution from the spikes\n",
    "    removed. \n",
    "    \n",
    "    This converts our result back to bits per spike,\n",
    "    adding back this constant contribution.\n",
    "    '''\n",
    "    return -inbitspers*(vfe/totaltime+correction)\n",
    "    \n",
    "\n",
    "# Heuristic kernel parameters\n",
    "P  = data.P\n",
    "kv = data.prior_variance\n",
    "\n",
    "P_use  = P*2\n",
    "v0_use = kv\n",
    "model  = DiagonalFourierLowrank(v0_use,P_use,data)\n",
    "fit    = coordinate_descent(model,tol=1e-6)\n",
    "inference_summary_plot(model,fit,data)\n",
    "suptitle('%s: bad parameters, ELBO=%f bits/second'%\\\n",
    "         (data,to_bps(vfe)))\n",
    "\n",
    "P_use  = P\n",
    "v0_use = kv\n",
    "model  = DiagonalFourierLowrank(v0_use,P_use,data)\n",
    "fit    = coordinate_descent(model,tol=1e-6)\n",
    "inference_summary_plot(model,fit,data)\n",
    "suptitle('%s: heuristic parameters, ELBO=%f bits/second'%\\\n",
    "         (data,to_bps(vfe)))\n",
    "\n",
    "P_use  = bestpars[0]\n",
    "v0_use = kv/bestpars[1]\n",
    "model  = DiagonalFourierLowrank(v0_use,P_use,data)\n",
    "fit    = coordinate_descent(model,tol=1e-6)\n",
    "inference_summary_plot(model,fit,data)\n",
    "suptitle('%s: Optimised parameters, ELBO=%f bits/second'%\\\n",
    "         (data,to_bps(vfe)))"
   ]
  },
  {
   "cell_type": "markdown",
   "id": "892432a0-185b-4229-8774-86fa892fcecd",
   "metadata": {},
   "source": [
    "## Detailed parameter sweep to visualize for the paper"
   ]
  },
  {
   "cell_type": "code",
   "execution_count": null,
   "id": "ad6fd0d5-1260-4fb0-8c39-83c419f9fd62",
   "metadata": {},
   "outputs": [],
   "source": [
    "from lgcpspatial.util import progress_bar\n",
    "\n",
    "print('Sweeping kernel prior variance')\n",
    "vs = exp(linspace(-8,log(1),30))\n",
    "elbo_v = float32([\n",
    "    coordinate_descent(DiagonalFourierLowrank(v,P_use,data))[2]\\\n",
    "    for v in progress_bar(vs)])\n",
    "\n",
    "print('Sweeping kernel period')\n",
    "ps = linspace(20/100*data.L*data.scale,70/100*data.L*data.scale,30)\n",
    "elbo_p = float32([\n",
    "    coordinate_descent(DiagonalFourierLowrank(v0_use,p,data),tol=1e-7)[2]\\\n",
    "    for p in progress_bar(ps)])\n",
    "\n",
    "Fs    = 50\n",
    "N     = len(data.px)/Fs\n",
    "y0,y1 = -.8,-.72\n",
    "\n",
    "figure(0,(5,.6),dpi=140)\n",
    "subplot(121)\n",
    "x = ps/data.scale/data.L*100\n",
    "y = to_bps(elbo_p)\n",
    "plot(x,y)\n",
    "simpleaxis()\n",
    "title('Grid cell period $P$')\n",
    "xlabel('Grid period (cm)',labelpad=-7)\n",
    "xticks([20,70])\n",
    "ylabel('ELBO (bits/s)')\n",
    "ylim(y0,y1)\n",
    "yticks([y0,y1],['%.2f'%y0,'%.2f'%y1])\n",
    "best = argmax(y)\n",
    "axvline(x[best],lw=.8,color=MAUVE)\n",
    "text(x[best]+px2x(2),ylim()[0]+px2y(2),'%d cm'%x[best],va='bottom',fontsize=7)\n",
    "subplot(122)\n",
    "x,y = vs,to_bps(elbo_v)\n",
    "plot(x,y)\n",
    "simpleaxis()\n",
    "title('Kernel marginal variance $\\\\sigma_0^2$')\n",
    "xlabel('Prior variance',labelpad=-7)\n",
    "xticks([0,1])\n",
    "ylim(y0,y1)\n",
    "yticks([y0,y1],['',''])\n",
    "best = argmax(y)\n",
    "axvline(x[best],lw=.8,color=MAUVE)\n",
    "text(x[best]+px2x(2),ylim()[0]+px2y(2),'$\\\\sigma^2_0$=%0.2f'%x[best],va='bottom',fontsize=7)\n",
    "savefig('fig3b.svg')"
   ]
  }
 ],
 "metadata": {
  "kernelspec": {
   "display_name": "Python 3",
   "language": "python",
   "name": "python3"
  },
  "language_info": {
   "codemirror_mode": {
    "name": "ipython",
    "version": 3
   },
   "file_extension": ".py",
   "mimetype": "text/x-python",
   "name": "python",
   "nbconvert_exporter": "python",
   "pygments_lexer": "ipython3",
   "version": "3.8.10"
  }
 },
 "nbformat": 4,
 "nbformat_minor": 5
}
