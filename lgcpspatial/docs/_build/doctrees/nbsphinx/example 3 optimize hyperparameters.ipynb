{
 "cells": [
  {
   "cell_type": "markdown",
   "id": "deb8616a-2ff5-465e-9f84-ab59df8bae90",
   "metadata": {},
   "source": [
    "# Example 3: Optimized hyperparameters\n",
    "\n",
    "In this example, we optimize the period and variance of the GP prior using the evidence lower bound.\n",
    "\n",
    "Neuron `r2405_051216b_cell1816` was recorded by Dr. Marius Bauza and the Krupic lab; They have kindly shared this data to evaluate these GP methods. Please cite their work as\n",
    "\n",
    "> Krupic J, Bauza M, Burton S, O’Keefe J. Local transformations of the hippocampal cognitive map. Science. 2018 Mar 9;359(6380):1143-6."
   ]
  },
  {
   "cell_type": "markdown",
   "id": "07789699-1dfb-4655-a106-65332afb914c",
   "metadata": {},
   "source": [
    "## Grid search to find kernel hyperparameters with best evidence lower-bound"
   ]
  },
  {
   "cell_type": "code",
   "execution_count": null,
   "id": "9f7c0571-88db-4727-9502-290d62c9e151",
   "metadata": {},
   "outputs": [
    {
     "name": "stdout",
     "output_type": "stream",
     "text": [
      "[100,99](2.43e+01,1.05e+00) loss=-9.533342e+033"
     ]
    }
   ],
   "source": [
    "import sys\n",
    "sys.path.append('../')\n",
    "from lgcpspatial.loaddata        import Dataset\n",
    "from lgcpspatial.hyperparameters import gridsearch_optimize\n",
    "\n",
    "# Load a dataset\n",
    "L       = 128 # Grid size for position bins\n",
    "datadir = '../example data/'\n",
    "dataset = 'r2405_051216b_cell1816.mat'\n",
    "data    = Dataset.from_file(datadir+dataset).prepare(L,doplot=False)\n",
    "\n",
    "result = gridsearch_optimize(data)\n",
    "bestindex,bestpars,bestresult,allresults,pargrid = result"
   ]
  },
  {
   "cell_type": "markdown",
   "id": "5a91605f-7c70-4bc5-a64a-d9bb0e838308",
   "metadata": {},
   "source": [
    "## The heuristic parameters were close to optimal in this case\n",
    "\n",
    "***Note:*** Since each time-sample adds independent information, it is helpful to normalize the evidence lower bound (ELBO). By default, `coordinate_descent` returns the negative ELBO (sometimes called the variational free energy) in units of nats-per-dataset. We can convert this to a more useful bits-per-second by:\n",
    "\n",
    "1. Dividing by the total number of time samples, giving nats per sample\n",
    "2. Multiply by `log2(e)` to convert to bits per sample\n",
    "3. Multiplying by samples/second to get bits per second\n",
    "\n",
    "This (negative) ELBO is also missing a $\\ln(y!) = \\ln\\Gamma(y+1)$ term from the Poisson negative log-likelihood. This doesn't affect state or hyperparameter optimization, but it's good to add it back for completeness."
   ]
  },
  {
   "cell_type": "code",
   "execution_count": null,
   "id": "9b7413d3-32ed-4516-a210-51f8719d9b82",
   "metadata": {},
   "outputs": [],
   "source": [
    "from lgcpspatial.lgcp2d import DiagonalFourierLowrank\n",
    "from lgcpspatial.lgcp2d import coordinate_descent\n",
    "from lgcpspatial.lgcp2d import lgcpregress\n",
    "from scipy.special      import loggamma as lnΓ\n",
    "from lgcpspatial.plot   import *\n",
    "\n",
    "mask,mz = data.arena.mask,data.prior_mean\n",
    "y,N     = data.y,data.n\n",
    "Fs      = 50 # Hz\n",
    "\n",
    "inbitspers = log2(e)*Fs\n",
    "correction = average(lnΓ(data.y+1),weights=data.n)\n",
    "totaltime  = sum(N)\n",
    "\n",
    "def to_bps(vfe):\n",
    "    '''\n",
    "    The DiagonalFourierLowrank class returns the\n",
    "    variational free energy in units of nats per dataset,\n",
    "    with the constant contribution from the spikes\n",
    "    removed. \n",
    "    This converts our result back to bits per spike,\n",
    "    adding back this constant contribution.\n",
    "    '''\n",
    "    return -inbitspers*(vfe/totaltime+correction)\n",
    "    \n",
    "# Heuristic kernel parameters\n",
    "P  = data.P\n",
    "kv = data.prior_variance\n",
    "\n",
    "P_use  = P*2\n",
    "v0_use = kv\n",
    "result = lgcpregress(data,v0_use,P_use)\n",
    "inference_summary_plot(\n",
    "    result,\n",
    "    ftitle='%s: Bad parameters, ELBO=%0.3f bits/second'%\\\n",
    "    (dataset,to_bps(result.loss)))\n",
    "show()\n",
    "\n",
    "P_use  = P\n",
    "v0_use = kv\n",
    "result = lgcpregress(data,v0_use,P_use)\n",
    "inference_summary_plot(\n",
    "    result,\n",
    "    ftitle='%s: Heuristic parameters, ELBO=%0.3f bits/second'%\\\n",
    "    (dataset,to_bps(result.loss)))\n",
    "show()\n",
    "\n",
    "P_use  = bestpars[0]\n",
    "v0_use = kv/bestpars[1]\n",
    "result = lgcpregress(data,v0_use,P_use)\n",
    "inference_summary_plot(\n",
    "    result,\n",
    "    ftitle='%s: Optimised parameters, ELBO=%0.3f bits/second'%\\\n",
    "    (dataset,to_bps(result.loss)))\n",
    "show()\n",
    "\n",
    "print(P_use)\n",
    "print(v0_use)"
   ]
  }
 ],
 "metadata": {
  "kernelspec": {
   "display_name": "Python 3 (ipykernel)",
   "language": "python",
   "name": "python3"
  },
  "language_info": {
   "codemirror_mode": {
    "name": "ipython",
    "version": 3
   },
   "file_extension": ".py",
   "mimetype": "text/x-python",
   "name": "python",
   "nbconvert_exporter": "python",
   "pygments_lexer": "ipython3",
   "version": "3.10.6"
  }
 },
 "nbformat": 4,
 "nbformat_minor": 5
}
