{
 "cells": [
  {
   "cell_type": "markdown",
   "id": "fluid-vertical",
   "metadata": {},
   "source": [
    "# Three spaces\n",
    "\n",
    "## z space\n",
    "\n",
    "This should have real units of log-rate, where rate is in spikes/sample.\n",
    "These are functions, so we can't store them exactly. Instead, we store their values evaluated over a grid of points. \n",
    "\n",
    "This is the only space where physical units (spikes/sample) really make sense. It's the easiest space in which to calibrate a kernel. These values are in z-space: \n",
    "\n",
    "- N: samples in each bin\n",
    "- K: spikes in each bin\n",
    "- y: K/N: direct rate estimate in spikes/sample\n",
    "- σ0: this is the variance of the log-rate\n",
    "- lλb: background log rate, in log(bgspikes/sample)\n",
    "- lλf: foreground log rate, in log(spikes/bgspikes)\n",
    "\n",
    "## u space\n",
    "\n",
    "We need to be formal and rigorous. We are working with a finite-dimensional projection of an infinite-dimensional Gaussian process. We use piecewise constant basis functions with area $1/L^2$. These need to be orthogonal and have unit length. So, their height is $L$. \n",
    "\n",
    "To convert from $Z$ to $U$, we pretend that $Z$ is also piecewise constant. So we integrate a value of $z$ over a patch of size $1/L^2$, then multiply by $L$. Overall we pick up a 1/L scaling.\n",
    "\n",
    "To convert from $U$ to $Z$, we just invert this: multiply by $L$. What's happening here? Well, $u$ are supposed to reflect integrals of $Z$ over an area of size $1/L^2$, multipled by $L$. If we multiply this by one more $L$, we get an average. \n",
    "\n",
    "## h space\n",
    "\n",
    "This is hartley space, and should maybe just be considered Fourier space as it is for all intents and purposes identical. We get here by using a unitary FFT from u space. \n",
    "\n",
    "Something that worries me: since we're discarding components, the mapping from u to h is not actually unitary. This means that it doesn't preserve determinants, traces, or norms. \n",
    "\n",
    "We're doing gradient descent in h-space, which means this is the actual land where the Gaussian process lives. So we should do all calculations here. \n",
    "\n",
    "So, every term of the KL divergence is in Hartley space. We just need to convert back up when we're calculating the rate integral for the likelihood term"
   ]
  },
  {
   "cell_type": "code",
   "execution_count": null,
   "id": "protected-graphics",
   "metadata": {},
   "outputs": [],
   "source": []
  }
 ],
 "metadata": {
  "kernelspec": {
   "display_name": "Python 3",
   "language": "python",
   "name": "python3"
  },
  "language_info": {
   "codemirror_mode": {
    "name": "ipython",
    "version": 3
   },
   "file_extension": ".py",
   "mimetype": "text/x-python",
   "name": "python",
   "nbconvert_exporter": "python",
   "pygments_lexer": "ipython3",
   "version": "3.6.9"
  }
 },
 "nbformat": 4,
 "nbformat_minor": 5
}
