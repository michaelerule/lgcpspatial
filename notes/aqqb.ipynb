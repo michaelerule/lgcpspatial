{
 "cells": [
  {
   "cell_type": "markdown",
   "id": "71a65f54-0125-4700-a806-c9469e9a5ecd",
   "metadata": {},
   "source": [
    "\\begin{equation}\\begin{aligned}\n",
    "\\mathcal L(\\mathbf Q)\n",
    "&\n",
    "=\n",
    "\\mathbf n^\\top \\exp\\left(\\boldsymbol\\mu + \\tfrac 1 2 \\operatorname{diag}\\left[\\mathbf A^\\top \\mathbf Q\\mathbf Q^\\top \\mathbf B\\right]\\right)\n",
    "+\n",
    "\\tfrac 1 2 \n",
    "\\left\\{\n",
    "\\operatorname{tr}\\left[\n",
    "\\mathbf B \\boldsymbol\\Sigma_0^{-1}\\mathbf A^\\top \\mathbf Q\\mathbf Q^\\top \n",
    "\\right] \n",
    "- \n",
    "\\ln|\\mathbf Q\\mathbf Q^\\top|\\right\\}\n",
    "\\end{aligned}\\end{equation}"
   ]
  },
  {
   "cell_type": "code",
   "execution_count": 1,
   "id": "5eb2e3d9-5ab1-44f6-807d-86ea97b15da4",
   "metadata": {},
   "outputs": [
    {
     "data": {
      "text/plain": [
       "\"\\n½(BΛAQ - Q⁺) + ...\\n\\n∂ij ... = \\n\\nn_k ∂ij λ_k\\n\\n½ n_k λ_k ∂ij diag[AQQ'B]k\\n\\n½ n_k λ_k ∂ij [AQQ'B]kk\\n\\n½ n_k λ_k ∂ij Akl Qlm Q'mn Bnk\\n\\n½ n_k λ_k ∂ij Akl Qlm Qnm Bnk\\n\\n½ n_k λ_k Akl [ [ij=lm] Qnm + Qlm [ij=nm] ] Bnk\\n\\n½ n_k λ_k [ Akl [ij=lm] Qnm Bnk + Akl Qlm [ij=nm] Bnk ]\\n\\n½ n_k λ_k [ Aki Qnj Bnk + Akl Qlj Bik ]\\n\\n\\n\""
      ]
     },
     "execution_count": 1,
     "metadata": {},
     "output_type": "execute_result"
    }
   ],
   "source": [
    "'''\n",
    "½(BΛA'Q - Q⁺) + ...\n",
    "\n",
    "∂ij ... = \n",
    "\n",
    "n_k ∂ij d_k\n",
    "\n",
    "½ d_k ∂ij diag[A'QQ'B]k\n",
    "\n",
    "½ d_k ∂ij [A'QQ'B]kk\n",
    "\n",
    "½ d_k ∂ij Alk Qlm Qnm Bnk\n",
    "\n",
    "½ d_k Alk [ [ij=lm] Qnm + Qlm [ij=nm] ] Bnk\n",
    "\n",
    "½ d_k [ Alk [ij=lm] Qnm Bnk + Alk Qlm [ij=nm] Bnk ]\n",
    "\n",
    "½ d_k [ Aik Qnj Bnk + Akl Qlj Bik ]\n",
    "\n",
    "½ [ Aik d_k Bnk Qnj + Bik d_k Alk Qlj ]\n",
    "\n",
    "½ [ Aik d_k B'kn Qnj + Bik d_k A'kl Qlj ]\n",
    "\n",
    "½ [ ADB'Q + BDA'Q ]ij\n",
    "\n",
    "½ [ ADB'Q + BDA'Q ]ij\n",
    "\n",
    "'''"
   ]
  }
 ],
 "metadata": {
  "kernelspec": {
   "display_name": "Python 3 (ipykernel)",
   "language": "python",
   "name": "python3"
  },
  "language_info": {
   "codemirror_mode": {
    "name": "ipython",
    "version": 3
   },
   "file_extension": ".py",
   "mimetype": "text/x-python",
   "name": "python",
   "nbconvert_exporter": "python",
   "pygments_lexer": "ipython3",
   "version": "3.8.10"
  }
 },
 "nbformat": 4,
 "nbformat_minor": 5
}
