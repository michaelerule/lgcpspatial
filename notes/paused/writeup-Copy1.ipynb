{
 "cells": [
  {
   "cell_type": "markdown",
   "id": "metropolitan-radio",
   "metadata": {},
   "source": [
    "# Poisson point process"
   ]
  },
  {
   "cell_type": "markdown",
   "id": "brilliant-flight",
   "metadata": {},
   "source": [
    "During the experiment, the subject explores a trajectory $\\mathbf x(t) = \\{x_1(t), x_2(t)\\}$ in 2D space. Concurrently, we obtain and continuous-time recordings from a single grid cell, represented as the time-series $y(t)$\n",
    "\n",
    "\\begin{equation}\\begin{aligned}\n",
    "y(t) = \\begin{cases} \\delta(t) & \\text{if the cell spiked at time $t$} \\\\ 0 & \\text{ otherwise} \\end{cases}\n",
    "\\end{aligned}\\end{equation}"
   ]
  },
  {
   "cell_type": "markdown",
   "id": "sacred-violence",
   "metadata": {},
   "source": [
    "We model these spiking observation $y(t)$ as a point process, with a time-varying rate in units of pikes per sample\n",
    "\n",
    "\\begin{equation}\\begin{aligned}\n",
    "\\Pr\\left(\\textstyle\\int_t^{t+\\Delta t} y(t) \\,dt {=} k\\right) &= \\operatorname{Poisson}\\left(\\textstyle\\int_t^{t+\\Delta} \\lambda(t)\\, dt\\right)\n",
    "\\end{aligned}\\end{equation}"
   ]
  },
  {
   "cell_type": "markdown",
   "id": "whole-toronto",
   "metadata": {},
   "source": [
    "# Discretization in time"
   ]
  },
  {
   "cell_type": "markdown",
   "id": "abroad-digest",
   "metadata": {},
   "source": [
    "If the firing rate varies smoothly relative to the time-step $\\Delta t$, we may approximate\n",
    "\n",
    "\\begin{equation}\\begin{aligned}\n",
    "\\textstyle\\int_t^{t+\\Delta} \\lambda(t)\\, dt &\\approx \\Delta t\\, \\lambda(t)\n",
    "\\end{aligned}\\end{equation}"
   ]
  },
  {
   "cell_type": "markdown",
   "id": "persistent-battlefield",
   "metadata": {},
   "source": [
    "We work in discrete time-steps, and will denote $\\lambda(t)$ as $\\lambda_t$. We choose units such that $\\Delta t = 1$. Define $\\lambda_t$ and $y_t$ as:\n",
    "\n",
    "\\begin{equation}\\begin{aligned}\n",
    "\\lambda_t &= \\textstyle\\int_t^{t+\\Delta t} \\lambda(t) \\, dt\n",
    "\\\\\n",
    "y_t &= \\textstyle\\int_t^{t+\\Delta t} y(t) \\, dt\n",
    "\\end{aligned}\\end{equation}"
   ]
  },
  {
   "cell_type": "markdown",
   "id": "placed-transaction",
   "metadata": {},
   "source": [
    "The probability of $y_t$ spiking events at time $t$ is Poisson distributed:\n",
    "\n",
    "\\begin{equation}\\begin{aligned}\n",
    "\\Pr(y_t) &= \\frac 1 {y_t!} \\lambda_t^{y_t} e^{-\\lambda_t}\n",
    "\\end{aligned}\\end{equation}"
   ]
  },
  {
   "cell_type": "markdown",
   "id": "improved-architecture",
   "metadata": {},
   "source": [
    "Over the course of the experiment, we collect many data-points. We assume that spiking events are conditionalled independent, given $\\lambda_t$. For a given firing-rate map $z(\\mathbf x)$, the probability of observing all spiking events $\\mathbf y = \\{y_1,..,y_T\\}$ during the recording is\n",
    "\n",
    "\\begin{equation}\\begin{aligned}\n",
    "\\Pr(\\mathbf y | z(\\mathbf x) ) &=\n",
    "\\prod_{t=1..T} \\Pr(y_t | z(\\mathbf x) ) = \n",
    "\\prod_{t=1..T} \\frac 1 {y_t!} \\lambda_t^{y_t} e^{-\\lambda_t}\n",
    "\\end{aligned}\\end{equation}"
   ]
  },
  {
   "cell_type": "markdown",
   "id": "veterinary-somewhere",
   "metadata": {},
   "source": [
    "This is simpler to express and calculate in log-probability \n",
    "\n",
    "\\begin{equation}\\begin{aligned}\n",
    "\\ln\\Pr(\\mathbf y | z(\\mathbf x) ) \n",
    "&=\n",
    "\\textstyle\\sum_{t=1..T}\\left\\{ -\\ln(y_t!) + y_t \\ln(\\lambda_t) -\\lambda_t\\right\\}\n",
    "\\\\&=\n",
    "\\textstyle\\sum_{t=1..T}\\left\\{y_t \\ln(\\lambda_t) -\\lambda_t\\right\\} + \\text{constant}\n",
    "\\end{aligned}\\end{equation}\n"
   ]
  },
  {
   "cell_type": "markdown",
   "id": "unique-blond",
   "metadata": {},
   "source": [
    "We assume that the variations in firing rate can be explained by spatial location. The current firing-rate can be predicted as some function $f$ of the current 2D location $\\mathbf x(t)\\in\\mathbb R^2$:\n",
    "\n",
    "\\begin{equation}\\begin{aligned}\n",
    "\\lambda(t) = f(\\mathbf x(t))\n",
    "\\end{aligned}\\end{equation}"
   ]
  },
  {
   "cell_type": "markdown",
   "id": "removable-transportation",
   "metadata": {},
   "source": [
    "We will work with a log-Gaussian model, so $f(\\cdot)$ takes the form of a log-firing-rate field $z(\\mathbf x(t))$, plus a model for backgorund firing-rate variations $\\mu_z(\\mathbf x(t))$, which we will specify later:\n",
    "\n",
    "\\begin{equation}\\begin{aligned}\n",
    "\\lambda(t) = \\exp\\left[\n",
    "z(\\mathbf x(t)) + \\mu_z(\\mathbf x(t))\n",
    "\\right]\n",
    "\\end{aligned}\\end{equation}"
   ]
  },
  {
   "cell_type": "markdown",
   "id": "spanish-rainbow",
   "metadata": {},
   "source": [
    "Again, for small $\\Delta t$ we may consider the discrete-time approximation\n",
    "\n",
    "\\begin{equation}\\begin{aligned}\n",
    "\\lambda_t \\approx \\exp\\left[z(\\mathbf x_t) + \\mu_z(\\mathbf x_t) \\right]\n",
    "\\end{aligned}\\end{equation}"
   ]
  },
  {
   "cell_type": "markdown",
   "id": "mighty-modem",
   "metadata": {},
   "source": [
    "Or, in terms of log-rate: \n",
    "\n",
    "\\begin{equation}\\begin{aligned}\n",
    "\\ln \\lambda_t \\approx z(\\mathbf x_t) + \\mu_z(\\mathbf x_t)\n",
    "\\end{aligned}\\end{equation}"
   ]
  },
  {
   "cell_type": "markdown",
   "id": "conscious-monte",
   "metadata": {},
   "source": [
    "Substituting this in to the Poisson log-probability:\n",
    "\n",
    "\\begin{equation}\\begin{aligned}\n",
    "\\ln\\Pr(\\mathbf y | z(\\mathbf x) ) \n",
    "&=\n",
    "\\sum_{t=1..T}\\left\\{ y_t \\left[z(\\mathbf x_t) + \\mu_z(\\mathbf x_t) \\right] - \\exp\\left[z(\\mathbf x_t) + \\mu_z(\\mathbf x_t) \\right]\n",
    "\\right\\} + \\text{constant}\n",
    "\\end{aligned}\\end{equation}\n"
   ]
  },
  {
   "cell_type": "markdown",
   "id": "developmental-pickup",
   "metadata": {},
   "source": [
    "# Gaussian-process rate map"
   ]
  },
  {
   "cell_type": "markdown",
   "id": "certain-smoke",
   "metadata": {},
   "source": [
    "Now, we place a Gaussian-process prior on the log firing-rate function $z(\\mathbf x)$. \n",
    "\n",
    "\\begin{equation}\\begin{aligned}\n",
    "z(\\mathbf x) &\\sim\\mathcal{GP}\\left[\n",
    "0, \\Sigma_z(\\mathbf x_1, \\mathbf x_2)\n",
    "\\right]\n",
    "\\end{aligned}\\end{equation}"
   ]
  },
  {
   "cell_type": "markdown",
   "id": "durable-premium",
   "metadata": {},
   "source": [
    "where $\\Sigma$ is a two-point correlation function that describes the covairiance between two locations $\\mathbf x_1$ and $\\mathbf x_2$.\n",
    "\n",
    "Note that we have moved the mean $\\mu_z(\\mathbf x)$ out of this equation, this simplifies some things later."
   ]
  },
  {
   "cell_type": "markdown",
   "id": "stock-elimination",
   "metadata": {},
   "source": [
    "Our prior will impose a convolutional structure. So, $\\Sigma(\\mathbf x_1,\\mathbf x_2)$ depends only on the separation $\\Delta\\mathbf x = \\mathbf x_2 - \\mathbf x_1$. \n",
    "We further impose that this prior kernel is radially symmatrix, so "
   ]
  },
  {
   "cell_type": "markdown",
   "id": "reserved-visiting",
   "metadata": {},
   "source": [
    "\n",
    "\\begin{equation}\\begin{aligned}\n",
    "\\Sigma(\\mathbf x_1,\\mathbf x_2) = \\text K( | \\mathbf x_2 - \\mathbf x_1 | )\n",
    "\\end{aligned}\\end{equation}"
   ]
  },
  {
   "cell_type": "markdown",
   "id": "noticed-richards",
   "metadata": {},
   "source": [
    "The zero-lag autocorrelation, $\\Sigma(\\mathbf x,\\mathbf x) = \\text K(0)$, reflects our prior marginal variance. If our Gaussian process is well-calibrated, this should be very close to the variance of the log-rate map\n",
    "\n",
    "\\begin{equation}\\begin{aligned}\n",
    "\\text K(0) \\approx \\operatorname{var}[ \\mu(\\mathbf x) ]\n",
    "\\end{aligned}\\end{equation}\n"
   ]
  },
  {
   "cell_type": "markdown",
   "id": "portable-benefit",
   "metadata": {},
   "source": [
    "# Units "
   ]
  },
  {
   "cell_type": "markdown",
   "id": "signed-showcase",
   "metadata": {},
   "source": [
    "It is commonly said that log-quantities are unit-less. This is false. Rather, they are constrained by what units various functions of the log-units must have. We know that $\\lambda(\\mathbf x) = \\exp\\left[ z(\\mathbf x) + \\mu_z(\\mathbf x) \\right]$ has units of spikes per sample. We can therefore conclude that: \n",
    "\n",
    "- $\\exp\\left[ z(\\mathbf x) \\right]$ has units of spikes / background-spike.\n",
    "- $\\exp\\left[ \\mu_z(\\mathbf x) \\right]$ has units of background-spikes / sample\n",
    "\n",
    "Both $z(\\mathbf x)$ and $\\mu_z(\\mathbf x)$ have log-units.\n",
    "\n",
    "- $z(\\mathbf x)$ has units of log(spikes/backgrond-spike)\n",
    "- $\\mu_z(\\mathbf x)$ has units of log(background-spikes/sample)\n",
    "\n",
    "Define a new logarithmic unit \"dits\" as shorthand for log(spikes/backgrond-spike). This is a natural-logarithmic unit that measures deviation of our log-rate from its prior mean. The zero-lag variance therefore has units of dits². Which is to say that $\\exp\\left(\\sqrt{K(0)} + \\mu_z(\\mathbf x)\\right)=\\tfrac12\\exp[K(0) + 2 \\mu_z(\\mathbf x)]$ has units of spikes/sample."
   ]
  },
  {
   "cell_type": "markdown",
   "id": "homeless-summit",
   "metadata": {},
   "source": [
    "# Basis projections, general case"
   ]
  },
  {
   "cell_type": "markdown",
   "id": "automotive-oakland",
   "metadata": {},
   "source": [
    "We would like to estimate $z(\\mathbf x)$. Since $z(\\mathbf x)$ is an arbitrary function, it may be arbitrarily complicated. For computation, we work with a finite-dimensional projection of $z(\\mathbf x)$. We do this by projecting $z(\\mathbf x)$ on to a finite set of $M$ basis functions $\\mathbf B(\\mathbf x) = \\{ b_1(\\mathbf x),..,b_M(\\mathbf x)\\}$:\n",
    "\n",
    "\\begin{equation}\\begin{aligned}\n",
    "w_i = \\textstyle \\int_{\\mathbb R^2} b_i(\\mathbf x) z(\\mathbf x) \\, d\\mathbf x\n",
    "\\end{aligned}\\end{equation}"
   ]
  },
  {
   "cell_type": "markdown",
   "id": "eight-hunger",
   "metadata": {},
   "source": [
    "If we restrict the function space $z(\\mathbf x)$ to a nice reproducing kernel Hilbert space $\\mathcal H$, we can treat functions $z(\\mathbf x)$ much like finite-dimensional real-valued vectors $\\mathbf z = \\{z_{\\mathbf x}\\}$, and denote integrals like the above as if they were matrix multiplication: \n",
    "\n",
    "\\begin{equation}\\begin{aligned}\n",
    "w_i &= \\mathbf b_i^\\top \\mathbf z\n",
    "\\end{aligned}\\end{equation}"
   ]
  },
  {
   "cell_type": "markdown",
   "id": "bacterial-graham",
   "metadata": {},
   "source": [
    "We denote the projection of a function $\\mathbf z$ onto a finite-dimensional vector $\\mathbf w$ as: \n",
    "\n",
    "\\begin{equation}\\begin{aligned}\n",
    "\\mathbf w &= \\mathbf B^\\top \\mathbf z\n",
    "\\end{aligned}\\end{equation}"
   ]
  },
  {
   "cell_type": "markdown",
   "id": "floating-picking",
   "metadata": {},
   "source": [
    " If $\\mathbf w = \\mathbf B^\\top \\mathbf z$, then $\\mathbf w$ is a $M$-dimensional multivariate Gaussian with distribution\n",
    "\n",
    "\\begin{equation}\\begin{aligned}\n",
    "\\mathbf w &\\sim\\mathcal{N}\\left[\n",
    "\\boldsymbol \\mu_w, \\boldsymbol \\Sigma_w\n",
    "\\right]\n",
    "\\\\\n",
    "\\boldsymbol \\mu_w &= \\mathbf B^\\top \\boldsymbol \\mu_z\n",
    "\\\\\n",
    "\\boldsymbol \\Sigma_w &= \\mathbf B^\\top \\boldsymbol \\Sigma_z \\mathbf B\n",
    "\\end{aligned}\\end{equation}"
   ]
  },
  {
   "cell_type": "markdown",
   "id": "centered-frequency",
   "metadata": {},
   "source": [
    "Estimating $z(\\mathbf x)$ can now be re-cast as estimating the vector $\\mathbf w$. Given $\\mathbf w$, we can approximately convert back to $z(\\mathbf x)$ as:\n",
    "\n",
    "\\begin{equation}\\begin{aligned}\n",
    "\\tilde {\\mathbf z} &= {\\mathbf B^+}^{\\top} \\mathbf w\n",
    "\\end{aligned}\\end{equation}"
   ]
  },
  {
   "cell_type": "markdown",
   "id": "funny-legend",
   "metadata": {},
   "source": [
    "Since the vectors in $\\mathbf B$ are orthonormal, \n",
    "\n",
    "\\begin{equation}\\begin{aligned}\n",
    "{\\mathbf B^+}^{\\top} = \\mathbf B\n",
    "\\end{aligned}\\end{equation}"
   ]
  },
  {
   "cell_type": "markdown",
   "id": "acute-speech",
   "metadata": {},
   "source": [
    "and\n",
    "\n",
    "\\begin{equation}\\begin{aligned}\n",
    "\\tilde {\\mathbf z} &= \\mathbf B \\mathbf w\n",
    "\\end{aligned}\\end{equation}"
   ]
  },
  {
   "cell_type": "markdown",
   "id": "virtual-pride",
   "metadata": {},
   "source": [
    "Function evaluation in $\\mathcal H$ is just the dot product\n",
    "\n",
    "\\begin{equation}\\begin{aligned}\n",
    "z(\\mathbf x) = \\delta_{\\mathbf x}^\\top \\mathbf z\n",
    "\\end{aligned}\\end{equation}"
   ]
  },
  {
   "cell_type": "markdown",
   "id": "characteristic-improvement",
   "metadata": {},
   "source": [
    "If the basis functions $b_i(\\mathbf x)$ are orthogonal and unit norm then $\\mathbf B^+ = \\mathbf B^\\top$:\n",
    "\n",
    "\\begin{equation}\\begin{aligned}\n",
    "\\tilde z(\\mathbf x) &= \\sum_{i=1..M} w_i b_i(\\mathbf x) = \\delta_{\\mathbf x}^\\top \\mathbf B \\mathbf w\n",
    "\\end{aligned}\\end{equation}"
   ]
  },
  {
   "cell_type": "markdown",
   "id": "every-least",
   "metadata": {},
   "source": [
    "To directly approximate $z(\\mathbf x)$ given $\\mathbf x_t$:\n",
    "\n",
    "\\begin{equation}\\begin{aligned}\n",
    "\\tilde{\\mathbf x}_t = \\mathbf B^\\top \\delta_{\\mathbf x_t}\n",
    "\\end{aligned}\\end{equation}"
   ]
  },
  {
   "cell_type": "markdown",
   "id": "anonymous-spell",
   "metadata": {},
   "source": [
    "\\begin{equation}\\begin{aligned}\n",
    "\\tilde{\\mathbf z}(\\mathbf x_t) &= \\tilde{\\mathbf x}_t^\\top \\mathbf w\n",
    "\\end{aligned}\\end{equation}"
   ]
  },
  {
   "cell_type": "markdown",
   "id": "fitted-newman",
   "metadata": {},
   "source": [
    "Substituting in $\\tilde {\\mathbf z}$ in our equation for log rate: \n",
    "\n",
    "\\begin{equation}\\begin{aligned}\n",
    "\\ln \\lambda_t &\\approx \\tilde{\\mathbf x}_t^\\top (\\mathbf w + \\mathbf w_0)\n",
    "\\end{aligned}\\end{equation}"
   ]
  },
  {
   "cell_type": "markdown",
   "id": "pleasant-midnight",
   "metadata": {},
   "source": [
    "Substituting this in to the Poisson log-probability:\n",
    "\n",
    "\\begin{equation}\\begin{aligned}\n",
    "\\ln\\Pr(\\mathbf y | z(\\mathbf x) ) \n",
    "&=\n",
    "\\textstyle \\sum_{t=1..T} \n",
    "y_t \\left[\\tilde{\\mathbf x}_t^\\top (\\mathbf w + \\mathbf w_0) \\right] - \\exp\\left[\\tilde{\\mathbf x}_t^\\top (\\mathbf w + \\mathbf w_0)\\right]\n",
    "+\\text{constant}\n",
    "\\end{aligned}\\end{equation}\n"
   ]
  },
  {
   "cell_type": "markdown",
   "id": "frequent-mapping",
   "metadata": {},
   "source": [
    "# Piecewise constant grid basis projection "
   ]
  },
  {
   "cell_type": "markdown",
   "id": "floating-marks",
   "metadata": {},
   "source": [
    "In this work, we will consider two types of basis projections. Projection onto a square grid of local elements (\"spatial bins\"), and projection onto a finite subset of frequency components in Fourier space. We first consider projection onto a finite grid of square elements with spacing $\\Delta l$. These basis elements tile 2D space, and are indexed by $i$ and $j$:\n",
    "\n",
    "\\begin{equation}\\begin{aligned}\n",
    "b_{ij}(x_1,x_2) = \n",
    "\\frac 1 { {\\Delta l} }\n",
    "\\begin{cases} \n",
    "1 & \\text{if }\\, i{\\le}\\frac{x_1}{\\Delta l}{<}{i{+}1}\\text{ and }j{\\le}\\frac{x_2}{\\Delta l}{<}{j{+}1}\n",
    "\\\\\n",
    "0 & \\text{otherwise.}\n",
    "\\end{cases}\n",
    "\\end{aligned}\\end{equation}"
   ]
  },
  {
   "cell_type": "markdown",
   "id": "executive-gathering",
   "metadata": {},
   "source": [
    "It is easy to verify that each $\\|b_{ij}\\|^2$ is 1, and that different $b_{ij}$, $b_{kl}$ are orthogonal. This therefore correponds to an orthonormal basis for a finite-dimensional subspace of $\\mathcal H$. Projections onto components $w_{ij}$ in the subspace are given by integrating $z(\\mathbf x)$ with respect to $b_{ij}$:\n",
    "\n",
    "\\begin{equation}\\begin{aligned}\n",
    "w_{ij} &= \\textstyle \\int_{\\mathbb R^2} b_{ij}(\\mathbf x) z(\\mathbf x) \\, d\\mathbf x\n",
    "\\end{aligned}\\end{equation}"
   ]
  },
  {
   "cell_type": "markdown",
   "id": "confused-benefit",
   "metadata": {},
   "source": [
    "The above projections simply average average the value of $\\boldsymbol\\mu_z$ and $\\boldsymbol\\Sigma_z$ within the basis function, times $\\Delta l$. If the grid discretization is sufficiently fine, these averages can be replaced by point estimates, and: \n",
    "\n",
    "\\begin{equation}\\begin{aligned}\n",
    "\\mu_{w,ij} &= \\Delta l \\cdot \\mu_z(\\mathbf x_{ij})\n",
    "\\\\\n",
    "\\Sigma_{w,ij,kl} &= \\Delta l \\cdot \\Sigma_z(\\mathbf x_{ij},\\mathbf x_{kl})\n",
    "\\end{aligned}\\end{equation}\n",
    "\n",
    "where $\\mathbf x_{ij}$ is the centroid of each basis element."
   ]
  },
  {
   "cell_type": "markdown",
   "id": "norwegian-shooting",
   "metadata": {},
   "source": [
    "Consider again the Poisson log-probability:\n",
    "\n",
    "\\begin{equation}\\begin{aligned}\n",
    "\\ln\\Pr(\\mathbf y | z(\\mathbf x) ) \n",
    "&=\n",
    "\\textstyle \\sum_{t=1..T} \n",
    "y_t \\left[\\tilde{\\mathbf x}_t^\\top (\\mathbf w + \\mathbf w_0) \\right] - \\exp\\left[\\tilde{\\mathbf x}_t^\\top (\\mathbf w + \\mathbf w_0)\\right]\n",
    "+\\text{constant}\n",
    "\\\\\n",
    "&= \n",
    "\\mathbf y^\\top \\left[\\tilde{\\mathbf X}^\\top (\\mathbf w + \\mathbf w_0) \\right] - \\mathbf 1^\\top \\exp\\left[\\tilde{\\mathbf X}^\\top (\\mathbf w + \\mathbf w_0)\\right]\n",
    "+\\text{constant}\n",
    "\\end{aligned}\\end{equation}\n"
   ]
  },
  {
   "cell_type": "markdown",
   "id": "essential-account",
   "metadata": {},
   "source": [
    "where \n",
    "\n",
    "$$\n",
    "\\tilde{\\mathbf X} \\in \\mathbb R^{M \\times T}\n",
    "$$"
   ]
  },
  {
   "cell_type": "markdown",
   "id": "younger-training",
   "metadata": {},
   "source": [
    "Is there a nicer way to denote this as a summation over space, rather than time? We can also project the observations $\\mathbf y$ onto our basis set. \n",
    "\n",
    "$$\n",
    "\\tilde{y}_t = y_t \\circ \\tilde{\\mathbf x}_t\n",
    "$$"
   ]
  },
  {
   "cell_type": "markdown",
   "id": "brown-research",
   "metadata": {},
   "source": [
    "\\begin{equation}\\begin{aligned}\n",
    "\\mathbf y^\\top \\left[\\tilde{\\mathbf X}^\\top (\\mathbf w + \\mathbf w_0) \\right]\n",
    "&=\n",
    "\\textstyle\\sum_{t=1..T} y_t \\left( \\textstyle\\int_{\\mathbb R^2} \\mathbf B(\\mathbf x)^\\top \\delta_{\\mathbf x_t} \\, d\\mathbf x\\right)^\\top (\\mathbf w + \\mathbf w_0)\n",
    "\\\\\n",
    "&=\n",
    "\\textstyle\\sum_{t=1..T} y_t \\left( \\textstyle\\int_{\\mathbb R^2} \\delta_{\\mathbf x_t}^\\top \\mathbf B(\\mathbf x) \\, d\\mathbf x\\right) (\\mathbf w + \\mathbf w_0)\n",
    "\\\\\n",
    "&=\n",
    "\\textstyle\\int_{\\mathbb R^2} \\textstyle\\sum_{t=1..T} y_t \\delta_{\\mathbf x_t}^\\top \\mathbf B(\\mathbf x) (\\mathbf w + \\mathbf w_0)\\, d\\mathbf x\n",
    "\\\\\n",
    "&=\n",
    "\\textstyle\\int_{\\mathbb R^2} \\textstyle\\sum_{t=1..T} y_t \\delta_{\\mathbf x_t}^\\top\\, d\\mathbf x\\; \\mathbf B(\\mathbf x) (\\mathbf w + \\mathbf w_0)\n",
    "\\\\\n",
    "\\end{aligned}\\end{equation}"
   ]
  },
  {
   "cell_type": "markdown",
   "id": "placed-harvard",
   "metadata": {},
   "source": [
    "# Inference\n",
    "\n",
    "We are now ready to begin inference, with some case. We're going to use a variational approach, and estimate the posterior for $z(\\mathbf x)$ also as a Gaussian process. This is a log-Gaussian Cox-process regression. "
   ]
  },
  {
   "cell_type": "markdown",
   "id": "superior-proposal",
   "metadata": {},
   "source": [
    "\\begin{equation}\\begin{aligned}\n",
    "\\Pr(\\mathbf z | \\mathbf y) &\\approx Q(\\mathbf z) \\sim \\mathcal {GP}\\left[ \\hat\\mu_q(\\mathbf x), \\hat\\Sigma_q(\\mathbf x_1,\\mathbf x_2) \\right]\n",
    "\\end{aligned}\\end{equation}"
   ]
  },
  {
   "cell_type": "markdown",
   "id": "nasty-ethernet",
   "metadata": {},
   "source": [
    "We do this by minimizing the KL divergence \n",
    "\n",
    "\\begin{equation}\\begin{aligned}\n",
    "D_{\\text{KL}}[ Q \\| \\Pr(\\mathbf z|\\mathbf y) ] = \\int Q(\\mathbf z) \\ln \\frac\n",
    "{Q(\\mathbf z)}\n",
    "{\\Pr(\\mathbf z|\\mathbf y)} \\mathcal D\\mathbf z\n",
    "= \n",
    "\\left<\n",
    "\\ln \\frac\n",
    "{Q(\\mathbf z)}\n",
    "{\\Pr(\\mathbf z|\\mathbf y)}\n",
    "\\right>_{Q}\n",
    "\\end{aligned}\\end{equation}\n",
    "\n",
    "This integral is somewhat confusing, since we need to integrate over all possible *functions* $z(\\mathbf x)$. We will first expand and simplify it, before carefully relating it to an integral over a finite basis projection. "
   ]
  },
  {
   "cell_type": "markdown",
   "id": "placed-chart",
   "metadata": {},
   "source": [
    "Recall Bayes theorem\n",
    "\\begin{equation}\\begin{aligned}\n",
    "\\Pr(\\mathbf z|\\mathbf y) &= \n",
    "\\Pr(\\mathbf y|\\mathbf z)\n",
    "\\frac\n",
    "{\\Pr(\\mathbf z)}\n",
    "{\\Pr(\\mathbf y)}\n",
    "\\end{aligned}\\end{equation}"
   ]
  },
  {
   "cell_type": "markdown",
   "id": "dress-breakdown",
   "metadata": {},
   "source": [
    "Substitute \n",
    "\n",
    "\\begin{equation}\\begin{aligned}\n",
    "\\left<\n",
    "\\ln \\frac\n",
    "{Q(\\mathbf z)}\n",
    "{\\Pr(\\mathbf z|\\mathbf y)}\n",
    "\\right>_{Q}\n",
    "&=\n",
    "\\left<\n",
    "\\ln \\frac\n",
    "{Q(\\mathbf z)}\n",
    "{\\Pr(\\mathbf z)}\n",
    "\\right>_{Q}\n",
    "-\\left< \\ln \\Pr(\\mathbf y|\\mathbf z)\\right>_{Q}\n",
    "+\\left< \\ln \\Pr(\\mathbf y)\\right>_{Q}\n",
    "\\\\\n",
    "&=\n",
    "D_{\\text{KL}}[ Q \\| \\Pr(\\mathbf z)]\n",
    "-\\left< \\ln \\Pr(\\mathbf y|\\mathbf z)\\right>_{Q}\n",
    "+\\left< \\ln \\Pr(\\mathbf y)\\right>_{Q}\n",
    "\\end{aligned}\\end{equation}\n",
    "\n"
   ]
  },
  {
   "cell_type": "markdown",
   "id": "empirical-siemens",
   "metadata": {},
   "source": [
    "Assume a uniform prior on $\\Pr(\\mathbf y)$ so that $\\left< \\ln \\Pr(\\mathbf y)\\right>_{Q}=$ constant\n",
    "\n",
    "\\begin{equation}\\begin{aligned}\n",
    "D_{\\text{KL}}( Q \\| P ) &= \n",
    "D_{\\text{KL}}[ Q \\| \\Pr(\\mathbf z)]\n",
    "-\\left< \\ln \\Pr(\\mathbf y|\\mathbf z)\\right>_{Q}\n",
    "+ \\text{const.}\n",
    "\\end{aligned}\\end{equation}"
   ]
  },
  {
   "cell_type": "markdown",
   "id": "environmental-netscape",
   "metadata": {},
   "source": [
    "In other words, variational Bayes maximizing the likelihood of the data given $Q(\\mathbf z)$, while minimizing the KL divergence from the prior to the approximating posterior. "
   ]
  },
  {
   "cell_type": "markdown",
   "id": "binding-wildlife",
   "metadata": {},
   "source": [
    "Note that the KL divergence for multivariate Gaussians diverges in the case of an infinite-dimensional Gaussian process:\n",
    "\n",
    "\\begin{equation}\\begin{aligned}\n",
    "D_{\\text{KL}}( Q \\| \\Pr(\\mathbf z) ) &= \n",
    "\\frac 1 2 \\left\\{\n",
    "\\operatorname{tr}\\left( \\Sigma_z^{-1} \\Sigma_q \\right)\n",
    "+\n",
    "\\mu_q^\\top  \\Sigma_z^{-1} \\mu_q - k - \\log\\left(\\Sigma_z^{-1} \\Sigma_q\\right)\n",
    "\\right\\}\n",
    "\\end{aligned}\\end{equation}"
   ]
  },
  {
   "cell_type": "markdown",
   "id": "warming-prime",
   "metadata": {},
   "source": [
    "\\begin{equation}\\begin{aligned}\n",
    "\\ln\\Pr(\\mathbf y | \\mathbf z ) \n",
    "&=\n",
    "\\textstyle\\sum_{t=1..T}\\left\\{y_t \\ln(\\lambda_t) -\\lambda_t\\right\\} + \\text{constant}\n",
    "\\end{aligned}\\end{equation}"
   ]
  },
  {
   "cell_type": "markdown",
   "id": "romance-bacon",
   "metadata": {},
   "source": [
    "\\begin{equation}\\begin{aligned}\n",
    "\\ln\\Pr(\\mathbf y | \\mathbf z ) \n",
    "&=\n",
    "\\textstyle\\sum_{i=1..M}\\left\\{K_i (z_i + \\mu_i) - N_i e^{z_i + \\mu_i} \\right\\} + \\text{constant}\n",
    "\\end{aligned}\\end{equation}"
   ]
  },
  {
   "cell_type": "markdown",
   "id": "involved-dependence",
   "metadata": {},
   "source": [
    "\\begin{equation}\\begin{aligned}\n",
    "\\left< \\ln \\Pr(\\mathbf y|\\mathbf z)\\right>_{Q}\n",
    "&=\n",
    "\\left< \n",
    "\\textstyle\\sum_{i=1..M}\\left\\{K_i (z_i + \\mu_i) - N_i e^{z_i + \\mu_i} \\right\\} + \\text{constant}\n",
    "\\right>_{Q}\n",
    "\\\\&=\n",
    "\\textstyle\\sum_{i=1..M}K_i \n",
    "\\left< z_i \\right>_{Q} + \\mu_i - N_i \n",
    "\\left< e^{z_i + \\mu_i}\\right>_{Q} + \\text{constant}\n",
    "\\\\&=\n",
    "\\textstyle\\sum_{i=1..M}K_i \n",
    "\\mu_{q,i} + \\mu_i - N_i \n",
    "\\left< e^{z_i + \\mu_i}\\right>_{Q} + \\text{constant}\n",
    "\\end{aligned}\\end{equation}"
   ]
  },
  {
   "cell_type": "markdown",
   "id": "mighty-sitting",
   "metadata": {},
   "source": [
    "\\begin{equation}\\begin{aligned}\n",
    "\\ln\\Pr(\\mathbf y | \\mathbf z ) \n",
    "&=\n",
    "\\textstyle\\sum_{i=1..M}\\left\\{K_i (z_i + \\mu_i) - N_i e^{z_i + \\mu_i} \\right\\} + \\text{constant}\n",
    "\\end{aligned}\\end{equation}"
   ]
  },
  {
   "cell_type": "markdown",
   "id": "unlimited-burner",
   "metadata": {},
   "source": [
    "How do we do this? \n",
    "\n",
    "- If we project first, we break the proper connection with the continuous Gaussian process\n",
    "- If we don't project, the integrals don't exist\n",
    "- If our prior is in the projected space, it restricts the posterior to a finite subspace and everything works\n",
    "- Appropriate normalization appears when we correctly normalize our basis functions"
   ]
  },
  {
   "cell_type": "markdown",
   "id": "funky-communication",
   "metadata": {},
   "source": [
    "# All the heavy lifting is done with the basis projection\n",
    "\n",
    "We never touch DKL until after correctly doing this. "
   ]
  },
  {
   "cell_type": "markdown",
   "id": "economic-scottish",
   "metadata": {},
   "source": [
    "\n",
    "\\begin{equation}\\begin{aligned}\n",
    "\\end{aligned}\\end{equation}"
   ]
  },
  {
   "cell_type": "markdown",
   "id": "acoustic-steps",
   "metadata": {},
   "source": [
    "\n",
    "\\begin{equation}\\begin{aligned}\n",
    "\\end{aligned}\\end{equation}"
   ]
  },
  {
   "cell_type": "markdown",
   "id": "conditional-partnership",
   "metadata": {},
   "source": [
    "\n",
    "\\begin{equation}\\begin{aligned}\n",
    "\\end{aligned}\\end{equation}"
   ]
  },
  {
   "cell_type": "markdown",
   "id": "devoted-seafood",
   "metadata": {},
   "source": [
    "\n",
    "\\begin{equation}\\begin{aligned}\n",
    "\\end{aligned}\\end{equation}"
   ]
  },
  {
   "cell_type": "markdown",
   "id": "monthly-times",
   "metadata": {},
   "source": [
    "\n",
    "\\begin{equation}\\begin{aligned}\n",
    "\\end{aligned}\\end{equation}"
   ]
  },
  {
   "cell_type": "code",
   "execution_count": null,
   "id": "bottom-glance",
   "metadata": {},
   "outputs": [],
   "source": []
  }
 ],
 "metadata": {
  "kernelspec": {
   "display_name": "Python 3",
   "language": "python",
   "name": "python3"
  },
  "language_info": {
   "codemirror_mode": {
    "name": "ipython",
    "version": 3
   },
   "file_extension": ".py",
   "mimetype": "text/x-python",
   "name": "python",
   "nbconvert_exporter": "python",
   "pygments_lexer": "ipython3",
   "version": "3.6.9"
  }
 },
 "nbformat": 4,
 "nbformat_minor": 5
}
