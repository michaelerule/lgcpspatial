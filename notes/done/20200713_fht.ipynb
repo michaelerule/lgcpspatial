{
 "cells": [
  {
   "cell_type": "markdown",
   "id": "indirect-momentum",
   "metadata": {},
   "source": [
    "# Convolution with the Hartley transform \n",
    "\n",
    "The [Hartley transform](https://en.wikipedia.org/wiki/Hartley_transform) can be computed by summing the real and imaginary parts of the Fourier transform. \n",
    "\n",
    "\\begin{equation}\\begin{aligned}\n",
    "\\mathcal F \\mathbf a &= \\mathbf x + i\\mathbf y\n",
    "\\\\\n",
    "\\mathcal H \\mathbf a &= \\mathbf x + \\mathbf y,\n",
    "\\end{aligned}\\end{equation}\n",
    "\n",
    "where $\\mathbf a$, $\\mathbf x$, and $\\mathbf y$ are real-valued vectors, $\\mathcal F$ is the Fourier transform, and  $\\mathcal H$ is the Hartley transform. It has several useful properties.\n",
    "\n",
    "- It is unitary, and also an involution: it is its own inverse.\n",
    "- Its output is real-valued, so it can be used with numerical routines that cannot handle complex numbers.\n",
    "- It can be computed in $\\mathcal O (n \\log(n))$ time using standard Fast Fourier Transform (FFT) libraries. \n",
    "\n",
    "These advantages make the Hartley transform useful for designing fast linear algebra routines that interoperate with libraries that [do not support complex numbers](https://stackoverflow.com/questions/43784197/minres-implementation-in-python). Disadvantages are that the Hartley spectrum is less intuitive than the Fourier spectrum, and that convolutions are tricker to compute. With the Fourier transform, convolutions can be computed using the convolution theorem: \n",
    "\n",
    "\\begin{equation}\\begin{aligned}\n",
    "\\mathbf a * \\mathbf b = \\mathcal F^{-1} [\n",
    "(\\mathcal F \\mathbf a)\n",
    "\\circ\n",
    "(\\mathcal F \\mathbf b)\n",
    "]\n",
    "\\end{aligned}\\end{equation}\n",
    "\n",
    "where $\\mathbf a$ and $\\mathbf b$ are vectors, $\\mathcal F$ is the Fourier transform, and $\\circ$ denotes element-wise multiplication. \n",
    "\n",
    "Convolutions for real-valued inputs can also be computed using the Hartley transform, albeit with a bit more work. For the Fourier transform real-valied inputs, the negative frequencies are the complex conjugate of positive frequencies. That is, if the Fourier coefficient for $+\\omega$ is $x + iy$, then the coefficient for $-\\omega$ is $x-iy$. \n",
    "\n",
    "For real-valued inputs, this means that positive frequencies of the Hartley transform take on values $x + y$ and negative values $x - y$. These two components are orthogonal, and can be used to recover the original real and imaginary parts of the Fourer transform. \n",
    "\n",
    "\\begin{equation}\\begin{aligned}\n",
    "\\,[ \\Re ({\\mathcal F} \\mathbf a)](\\omega) &= \\tfrac 1 2 \\left\\{\n",
    "[\\mathcal H \\mathbf a](\\omega)\n",
    "+\n",
    "[\\mathcal H \\mathbf a](-\\omega)\n",
    "\\right\\}\n",
    "\\\\\n",
    "\\,[ \\Im ({\\mathcal F} \\mathbf a)](\\omega) &= \\tfrac 1 2 \\left\\{\n",
    "[\\mathcal H \\mathbf a](\\omega)\n",
    "-\n",
    "[\\mathcal H \\mathbf a](-\\omega)\n",
    "\\right\\}\n",
    "\\end{aligned}\\end{equation}\n",
    "\n",
    "\n",
    "To convolve real-valued signals using the Hartley transform, convert the Hartley spectrum to the Fourier spectrum, and use the standard convolution theorem. This simplifies to:\n",
    "\n",
    "\\begin{equation}\\begin{aligned}\n",
    "\\mathbf a*\\mathbf b = \\tfrac 1 2 \\mathcal H^{-1}\\{\n",
    "&[\\mathcal H \\mathbf a](\\omega)[\\mathcal H \\mathbf b](\\hphantom{-}\\omega) \n",
    "+\n",
    "[\\mathcal H \\mathbf a](-\\omega) [\\mathcal H \\mathbf b](\\hphantom{-}\\omega) \n",
    "\\\\ + \n",
    "&[\\mathcal H \\mathbf a](\\omega) [\\mathcal H \\mathbf b](-\\omega) \n",
    "-\n",
    "[\\mathcal H \\mathbf a](-\\omega) [\\mathcal H \\mathbf b](-\\omega) \n",
    "\\}\n",
    "\\end{aligned}\\end{equation}\n",
    "\n",
    "Here's an example in numpy/scipy:\n",
    "\n",
    "```python\n",
    "from pylab import *\n",
    "    \n",
    "# reference convolution\n",
    "p  = exp(-0.5*linspace(-9,9,100)**2)\n",
    "q  = randn(100)\n",
    "\n",
    "fp = fft(p,norm='ortho')\n",
    "fq = fft(q,norm='ortho')\n",
    "z  = real(ifft(fp*fq,norm='ortho'))\n",
    "\n",
    "# ~~ fht convolution\n",
    "def fht(*args):\n",
    "    f = fft(*args,norm='ortho')\n",
    "    return real(f) + imag(f)\n",
    "\n",
    "reverse = lambda a:roll(a[::-1],len(a)+1)\n",
    "\n",
    "hp = fht(p)\n",
    "hq = fht(q)\n",
    "a  = hp*hq\n",
    "b  = reverse(hp)*hq\n",
    "hz = fht( b+a + reverse(b-a) )/2\n",
    "print(max(abs(hz - z)))\n",
    "```\n",
    "\n",
    "```\n",
    ">>>> 1.6653345369377348e-16\n",
    "```"
   ]
  },
  {
   "cell_type": "code",
   "execution_count": 27,
   "id": "brazilian-vermont",
   "metadata": {},
   "outputs": [
    {
     "name": "stdout",
     "output_type": "stream",
     "text": [
      "5.551115123125783e-17\n"
     ]
    }
   ],
   "source": [
    "from pylab import *\n",
    "    \n",
    "# reference convolution\n",
    "p  = exp(-0.5*linspace(-9,9,10)**2)\n",
    "q  = randn(10)\n",
    "\n",
    "fp = fft(p,norm='ortho')\n",
    "fq = fft(q,norm='ortho')\n",
    "z  = real(ifft(fp*fq,norm='ortho'))\n",
    "\n",
    "# FHT convolution\n",
    "def fht(*args,**kwargs):\n",
    "    kwargs['norm']='ortho'\n",
    "    f = fft(*args,**kwargs)\n",
    "    return real(f) + imag(f)\n",
    "\n",
    "reverse = lambda a:roll(a[::-1],1)\n",
    "\n",
    "hp = fht(p)\n",
    "hq = fht(q)\n",
    "a  = hp*hq\n",
    "b  = reverse(hp)*hq\n",
    "hz = fht( b+a + reverse(b-a) )/2\n",
    "print(max(abs(hz - z)))"
   ]
  },
  {
   "cell_type": "code",
   "execution_count": 2,
   "id": "heated-washer",
   "metadata": {},
   "outputs": [],
   "source": [
    "A = (diag(hp + reverse(hp)) + fliplr(diag(hp - reverse(hp))))/2"
   ]
  },
  {
   "cell_type": "code",
   "execution_count": 3,
   "id": "internal-accountability",
   "metadata": {},
   "outputs": [],
   "source": [
    "hz = fht(A@hq)"
   ]
  },
  {
   "cell_type": "code",
   "execution_count": 4,
   "id": "hired-stock",
   "metadata": {},
   "outputs": [
    {
     "name": "stdout",
     "output_type": "stream",
     "text": [
      "0.2194263859319154\n"
     ]
    }
   ],
   "source": [
    "Kf = fft2(K0,norm='ortho')\n",
    "\n",
    "x = randn(L,L)\n",
    "y = conv(Kf,x).reshape(L,L)\n",
    "y_ = y\n",
    "subplot(131); imshow(y)\n",
    "\n",
    "reverse1 = lambda a:roll(a[:,::-1],1,axis=1)\n",
    "reverse2 = lambda a:roll(a[::-1,:],1,axis=0)\n",
    "reverse  = lambda a: reverse2(reverse1(a))\n",
    "\n",
    "permutation = int32(down@reverse((up@(arange(R))).reshape(L,L)).ravel())\n",
    "xf = fft2(x,norm='ortho')\n",
    "kf = fft2(K0,norm='ortho')\n",
    "xh = real(xf) + imag(xf)\n",
    "kh = real(kf) + imag(kf)\n",
    "xh = down@xh.ravel()\n",
    "kh = down@kh.ravel()\n",
    "kr = kh[permutation]\n",
    "xr = xh[permutation]\n",
    "a  = kh+kr\n",
    "b  = kh-kr\n",
    "yh = (up@(xh*a+xr*b)).reshape(L,L)\n",
    "yh /= 2\n",
    "y  = fft2(yh,norm='ortho')\n",
    "y  = real(y) + imag(y)\n",
    "\n",
    "subplot(132); imshow(y.reshape(L,L))\n",
    "print(max(abs(y-y_)))\n",
    "\n",
    "def hconv(kh,xh):\n",
    "    kr = kh[permutation]\n",
    "    xr = xh[permutation]\n",
    "    a  = kh+kr\n",
    "    b  = kh-kr\n",
    "    return (xh*a+xr*b)/2\n",
    "\n",
    "def hconm(kh,Q):\n",
    "    return array([hconv(kh,q) for q in Q.T]).T\n",
    "\n",
    "xf = fft2(x,norm='ortho')\n",
    "kf = fft2(K0,norm='ortho')\n",
    "xh = real(xf) + imag(xf)\n",
    "kh = real(kf) + imag(kf)\n",
    "xh = down@xh.ravel()\n",
    "kh = down@kh.ravel()\n",
    "yh = (up@hconv(kh,xh)).reshape(L,L)\n",
    "y  = fft2(yh,norm='ortho')\n",
    "y  = real(y) + imag(y)\n",
    "\n",
    "subplot(133); imshow(y.reshape(L,L))\n",
    "print(max(abs(y-y_)))"
   ]
  },
  {
   "cell_type": "code",
   "execution_count": 5,
   "id": "supreme-enough",
   "metadata": {},
   "outputs": [
    {
     "ename": "NameError",
     "evalue": "name 'rq' is not defined",
     "output_type": "error",
     "traceback": [
      "\u001b[0;31m---------------------------------------------------------------------------\u001b[0m",
      "\u001b[0;31mNameError\u001b[0m                                 Traceback (most recent call last)",
      "\u001b[0;32m/tmp/ipykernel_642920/3018190341.py\u001b[0m in \u001b[0;36m<module>\u001b[0;34m\u001b[0m\n\u001b[0;32m----> 1\u001b[0;31m \u001b[0mprint\u001b[0m\u001b[0;34m(\u001b[0m\u001b[0mmax\u001b[0m\u001b[0;34m(\u001b[0m\u001b[0mabs\u001b[0m\u001b[0;34m(\u001b[0m\u001b[0mhp\u001b[0m\u001b[0;34m*\u001b[0m\u001b[0mrq\u001b[0m \u001b[0;34m-\u001b[0m \u001b[0mflipud\u001b[0m\u001b[0;34m(\u001b[0m\u001b[0mdiag\u001b[0m\u001b[0;34m(\u001b[0m\u001b[0mhp\u001b[0m\u001b[0;34m)\u001b[0m\u001b[0;34m)\u001b[0m\u001b[0;34m@\u001b[0m\u001b[0mhq\u001b[0m \u001b[0;34m)\u001b[0m\u001b[0;34m)\u001b[0m\u001b[0;34m)\u001b[0m\u001b[0;34m\u001b[0m\u001b[0;34m\u001b[0m\u001b[0m\n\u001b[0m",
      "\u001b[0;31mNameError\u001b[0m: name 'rq' is not defined"
     ]
    }
   ],
   "source": [
    "print(max(abs(hp*rq - flipud(diag(hp))@hq )))"
   ]
  },
  {
   "cell_type": "code",
   "execution_count": null,
   "id": "broke-corporation",
   "metadata": {},
   "outputs": [],
   "source": [
    "d,e,f,g = hp*hq,rp*hq,hp*rq,rp*rq"
   ]
  },
  {
   "cell_type": "code",
   "execution_count": null,
   "id": "agreed-facing",
   "metadata": {},
   "outputs": [],
   "source": [
    "\n",
    "hp = fht(p)\n",
    "hq = fht(q)\n",
    "hz = (0\n",
    "         + reverse(hp)*hq\n",
    "         + hp*hq \n",
    "         + hp*reverse(hq)\n",
    "         -reverse(hp)*reverse(hq)\n",
    "        )/2\n",
    "\n",
    "a = diag(hp + reverse(hp))\n",
    "a[reverse(arange(10)),arange(10)] += reverse(hp) - hp\n",
    "print(max(abs( hz - a @ hq / 2 )))\n",
    "imshow(a)"
   ]
  },
  {
   "cell_type": "code",
   "execution_count": null,
   "id": "brilliant-omaha",
   "metadata": {},
   "outputs": [],
   "source": []
  },
  {
   "cell_type": "code",
   "execution_count": null,
   "id": "graphic-morocco",
   "metadata": {},
   "outputs": [],
   "source": [
    "argsort(reverse(arange(10)))"
   ]
  },
  {
   "cell_type": "code",
   "execution_count": null,
   "id": "challenging-photograph",
   "metadata": {},
   "outputs": [],
   "source": [
    "hq[i]-reverse(hq)"
   ]
  },
  {
   "cell_type": "code",
   "execution_count": null,
   "id": "european-wheat",
   "metadata": {},
   "outputs": [],
   "source": [
    "reverse(g) - d"
   ]
  },
  {
   "cell_type": "code",
   "execution_count": null,
   "id": "purple-dining",
   "metadata": {},
   "outputs": [],
   "source": [
    "hp*hq"
   ]
  },
  {
   "cell_type": "code",
   "execution_count": null,
   "id": "typical-principal",
   "metadata": {},
   "outputs": [],
   "source": [
    "a,b = hp*hq, reverse(hp)*hq\n",
    "hz  = fht( b+a + reverse(b-a) )/2\n",
    "print(max(abs(hz - z)))"
   ]
  },
  {
   "cell_type": "code",
   "execution_count": 29,
   "id": "hourly-roller",
   "metadata": {},
   "outputs": [
    {
     "data": {
      "text/plain": [
       "array([[ 0.46308385, -0.98155066,  0.04848734,  2.11694996, -0.36511416,\n",
       "        -0.20794063, -0.98877899,  0.38478441, -0.35722563,  1.33651122],\n",
       "       [ 1.29862949, -0.97201858,  1.25318734, -1.26599196, -0.28777522,\n",
       "         0.05113758, -0.23253573, -0.12628125, -0.85526156, -0.72681102],\n",
       "       [-0.61701609, -0.48260647, -0.20424728, -0.52998579,  1.02646461,\n",
       "        -0.32233951, -0.8522937 ,  0.29826593, -0.8942738 ,  0.64021504],\n",
       "       [ 1.6888989 ,  0.4873797 , -0.5296515 , -2.2687401 , -0.1582377 ,\n",
       "         0.52118497,  0.28281254,  1.97132939, -0.70814305, -0.54182482],\n",
       "       [ 0.81753514,  1.33020314, -0.45309912,  1.31881913, -0.03713225,\n",
       "        -0.07009938,  1.43232386, -0.82585541,  0.42776382, -0.39245462],\n",
       "       [-0.34659786,  0.39866954,  0.57434032, -0.13591593,  0.16105016,\n",
       "        -0.90685662,  1.90599202,  0.00650503, -0.54062229,  0.25936559],\n",
       "       [ 1.72785303,  0.2493582 ,  1.63137835, -0.59998825,  1.05847729,\n",
       "         0.04189442, -0.86200235, -0.44510359, -0.85094213,  0.35098553],\n",
       "       [ 0.46384484,  0.86774149, -0.11820573, -0.93316452, -1.96219616,\n",
       "        -0.28073304, -1.21664761, -1.8619569 , -0.50214903, -2.33010377],\n",
       "       [ 1.00005015, -1.17376429,  1.7143242 , -1.28780096,  0.40113271,\n",
       "         0.37522012, -0.06044761,  0.40145992,  0.33012824, -2.89429537],\n",
       "       [-0.12160971, -0.53845246,  0.62097428,  0.8801102 , -0.20164641,\n",
       "         0.10070541, -1.40563882, -1.10884649,  0.47521715, -1.59631902]])"
      ]
     },
     "execution_count": 29,
     "metadata": {},
     "output_type": "execute_result"
    }
   ],
   "source": [
    "roll(x,1,axis=1)"
   ]
  },
  {
   "cell_type": "code",
   "execution_count": 14,
   "id": "central-secondary",
   "metadata": {},
   "outputs": [
    {
     "data": {
      "text/plain": [
       "1.8887556211511507"
      ]
     },
     "execution_count": 14,
     "metadata": {},
     "output_type": "execute_result"
    }
   ],
   "source": [
    "x = randn(10,10)\n",
    "\n",
    "y = fft2(x,norm='ortho')\n",
    "y = real(y) + imag(y)\n",
    "\n",
    "np.max(abs(  fht(fht(x,axis=0),axis=1) - y  ))"
   ]
  },
  {
   "cell_type": "code",
   "execution_count": 26,
   "id": "separate-database",
   "metadata": {},
   "outputs": [
    {
     "data": {
      "text/plain": [
       "<matplotlib.image.AxesImage at 0x7fdb63be0340>"
      ]
     },
     "execution_count": 26,
     "metadata": {},
     "output_type": "execute_result"
    },
    {
     "data": {
      "image/png": "[encoded data removed]",
      "text/plain": [
       "<Figure size 432x288 with 2 Axes>"
      ]
     },
     "metadata": {
      "needs_background": "light"
     },
     "output_type": "display_data"
    }
   ],
   "source": [
    "x = randn(10,10)\n",
    "y = fft2(x)\n",
    "\n",
    "subplot(121)\n",
    "imshow(real(y))\n",
    "subplot(122)\n",
    "imshow(imag(y))"
   ]
  },
  {
   "cell_type": "code",
   "execution_count": null,
   "id": "together-cover",
   "metadata": {},
   "outputs": [],
   "source": []
  }
 ],
 "metadata": {
  "kernelspec": {
   "display_name": "Python 3",
   "language": "python",
   "name": "python3"
  },
  "language_info": {
   "codemirror_mode": {
    "name": "ipython",
    "version": 3
   },
   "file_extension": ".py",
   "mimetype": "text/x-python",
   "name": "python",
   "nbconvert_exporter": "python",
   "pygments_lexer": "ipython3",
   "version": "3.6.9"
  }
 },
 "nbformat": 4,
 "nbformat_minor": 5
}
