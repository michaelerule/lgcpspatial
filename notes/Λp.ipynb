{
 "cells": [
  {
   "cell_type": "markdown",
   "id": "a26b4528-b5ea-4bc6-9a77-d19538c61ea0",
   "metadata": {},
   "source": [
    "\\begin{equation}\\begin{aligned}\n",
    "{\\partial_{\\mathbf p_i}} \\boldsymbol\\Sigma_{kl} &= - \\boldsymbol\\Sigma_{ki} \\boldsymbol\\Sigma_{il}\n",
    "\\\\\n",
    "\\mathbf D &= \\operatorname{diag}[\\mathbf n\\circ\\langle\\boldsymbol\\lambda\\rangle] \n",
    "\\\\\n",
    "\\tilde{\\boldsymbol\\Lambda} &= \\boldsymbol\\Lambda_0 + \\mathbf D\n",
    "\\\\\n",
    "{\\partial_{\\mathbf p_i}} \\tfrac12 \\operatorname{diag}[\\boldsymbol\\Sigma - \\boldsymbol\\Sigma\\tilde{\\boldsymbol\\Lambda}\\boldsymbol\\Sigma]^\\top \\mathbf u\n",
    "&=\n",
    "{\\partial_{\\mathbf p_i}} \\tfrac12 [\\boldsymbol\\Sigma - \\boldsymbol\\Sigma\\tilde{\\boldsymbol\\Lambda}\\boldsymbol\\Sigma]_{kk} \\mathbf u_k \n",
    "\\\\&=\n",
    "\\tfrac12 \\mathbf u_k{\\partial_{\\mathbf p_i}} [\\boldsymbol\\Sigma - \\boldsymbol\\Sigma\\tilde{\\boldsymbol\\Lambda}\\boldsymbol\\Sigma]_{kk}\n",
    "\\\\&=\n",
    "\\tfrac12 \\mathbf u_k[{\\partial_{\\mathbf p_i}} \\boldsymbol\\Sigma_{kk} - {\\partial_{\\mathbf p_i}} (\\boldsymbol\\Sigma\\tilde{\\boldsymbol\\Lambda}\\boldsymbol\\Sigma)_{kk}]\n",
    "\\\\&=\n",
    "\\tfrac12 \\mathbf u_k[- \\boldsymbol\\Sigma_{ki} \\boldsymbol\\Sigma_{ik} - {\\partial_{\\mathbf p_i}} (\\boldsymbol\\Sigma_{kl}\\tilde{\\boldsymbol\\Lambda}_{lm} \\boldsymbol\\Sigma_{mk})]\n",
    "\\\\&=\n",
    "- \\tfrac12 [ \\boldsymbol\\Sigma \\operatorname{diag}[\\mathbf u] \\boldsymbol\\Sigma ]_{ii} - \\tfrac12 \\mathbf u_k[ ({\\partial_{\\mathbf p_i}} \\boldsymbol\\Sigma_{kl}) \\tilde{\\boldsymbol\\Lambda}_{lm} \\boldsymbol\\Sigma_{mk}+\\boldsymbol\\Sigma_{kl} \\tilde{\\boldsymbol\\Lambda}_{lm} ({\\partial_{\\mathbf p_i}} \\boldsymbol\\Sigma_{mk}) ]\n",
    "\\\\&=\n",
    "- \\tfrac12 [ \\boldsymbol\\Sigma \\operatorname{diag}[\\mathbf u] \\boldsymbol\\Sigma ]_{ii} - \\tfrac12 \\mathbf u_k[ (- \\boldsymbol\\Sigma_{ki} \\boldsymbol\\Sigma_{il}) \\tilde{\\boldsymbol\\Lambda}_{lm} \\boldsymbol\\Sigma_{mk}+\\boldsymbol\\Sigma_{kl} \\tilde{\\boldsymbol\\Lambda}_{lm} (- \\boldsymbol\\Sigma_{mi} \\boldsymbol\\Sigma_{ik}) ] ]\n",
    "\\\\&=\n",
    "- \\tfrac12 [ \\boldsymbol\\Sigma \\operatorname{diag}[\\mathbf u] \\boldsymbol\\Sigma ]_{ii} + \\tfrac12 \\mathbf u_k[ \\boldsymbol\\Sigma_{il} \\tilde{\\boldsymbol\\Lambda}_{lm} \\boldsymbol\\Sigma_{mk} \\boldsymbol\\Sigma_{ki} +\\boldsymbol\\Sigma_{ik} \\boldsymbol\\Sigma_{kl} \\tilde{\\boldsymbol\\Lambda}_{lm} \\boldsymbol\\Sigma_{mi} ] ]\n",
    "\\\\&=\n",
    "- \\tfrac12 [ \\boldsymbol\\Sigma \\operatorname{diag}[\\mathbf u] \\boldsymbol\\Sigma ]_{ii} + \\tfrac12 \\mathbf u_k[ (\\boldsymbol\\Sigma\\tilde{\\boldsymbol\\Lambda}\\boldsymbol\\Sigma)_{ik} \\boldsymbol\\Sigma_{ki} +\\boldsymbol\\Sigma_{ik} (\\boldsymbol\\Sigma\\tilde{\\boldsymbol\\Lambda}\\boldsymbol\\Sigma)_{ki} ] ]\n",
    "\\\\&=\n",
    "- \\tfrac12 [ \\boldsymbol\\Sigma \\operatorname{diag}[\\mathbf u] \\boldsymbol\\Sigma ]_{ii} + (\\boldsymbol\\Sigma\\tilde{\\boldsymbol\\Lambda}\\boldsymbol\\Sigma)_{ik} \\mathbf u_k\\boldsymbol\\Sigma_{ki}\n",
    "\\\\&=\n",
    "- \\tfrac12 [ \\boldsymbol\\Sigma \\operatorname{diag}[\\mathbf u] \\boldsymbol\\Sigma ]_{ii} + (\\boldsymbol\\Sigma\\tilde{\\boldsymbol\\Lambda}\\boldsymbol\\Sigma \\operatorname{diag}[\\mathbf u] \\boldsymbol\\Sigma)_{ii}\n",
    "\\end{aligned}\\end{equation}"
   ]
  },
  {
   "cell_type": "code",
   "execution_count": null,
   "id": "61b60aae-5a8b-4a89-be90-253c5e33f039",
   "metadata": {},
   "outputs": [],
   "source": []
  }
 ],
 "metadata": {
  "kernelspec": {
   "display_name": "Python 3 (ipykernel)",
   "language": "python",
   "name": "python3"
  },
  "language_info": {
   "codemirror_mode": {
    "name": "ipython",
    "version": 3
   },
   "file_extension": ".py",
   "mimetype": "text/x-python",
   "name": "python",
   "nbconvert_exporter": "python",
   "pygments_lexer": "ipython3",
   "version": "3.8.10"
  }
 },
 "nbformat": 4,
 "nbformat_minor": 5
}
